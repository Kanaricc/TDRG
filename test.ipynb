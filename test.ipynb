{
 "cells": [
  {
   "cell_type": "code",
   "execution_count": 7,
   "metadata": {},
   "outputs": [
    {
     "name": "stderr",
     "output_type": "stream",
     "text": [
      "/home/kanari/miniconda3/envs/ml/lib/python3.9/site-packages/torch/nn/functional.py:1944: UserWarning: nn.functional.sigmoid is deprecated. Use torch.sigmoid instead.\n",
      "  warnings.warn(\"nn.functional.sigmoid is deprecated. Use torch.sigmoid instead.\")\n"
     ]
    },
    {
     "data": {
      "text/plain": [
       "tensor(0.)"
      ]
     },
     "execution_count": 7,
     "metadata": {},
     "output_type": "execute_result"
    }
   ],
   "source": [
    "import torch\n",
    "from torch.nn import functional as F\n",
    "\n",
    "alpha=-4.45\n",
    "beta=5.45\n",
    "gamma=1.\n",
    "outputs=torch.tensor([[100,-100,100]])\n",
    "targets=torch.tensor([[0,-1,1]])\n",
    "\n",
    "outputs=F.sigmoid(outputs)\n",
    "\n",
    "masks=targets.detach().clone()\n",
    "# generate mask. only 1 and -1 are valid labels.\n",
    "masks[masks==-1]=1\n",
    "# set -1 as 0 to fit standard BCE loss\n",
    "targets[targets==-1]=0\n",
    "\n",
    "batch_size, num_class = outputs.size()\n",
    "criterion = torch.nn.BCELoss(reduction=\"none\").cuda()\n",
    "# BCEloss needs targets be float\n",
    "loss = criterion(outputs, targets.float())\n",
    "# masks==0 are masked\n",
    "loss = loss * masks.float()\n",
    "known_ys = masks.float().sum(1)\n",
    "p_y = known_ys / num_class\n",
    "g_p_y = alpha * (p_y**gamma) + beta\n",
    "loss = ((g_p_y / num_class) * loss.sum(1)).mean()\n",
    "loss"
   ]
  },
  {
   "cell_type": "code",
   "execution_count": 3,
   "metadata": {},
   "outputs": [
    {
     "data": {
      "text/plain": [
       "tensor([[0, 1, 1]])"
      ]
     },
     "execution_count": 3,
     "metadata": {},
     "output_type": "execute_result"
    }
   ],
   "source": [
    "targets"
   ]
  },
  {
   "cell_type": "code",
   "execution_count": 4,
   "metadata": {},
   "outputs": [],
   "source": [
    "t1=torch.tensor([[1,2,3]])\n",
    "t2=t1.detach()"
   ]
  },
  {
   "cell_type": "code",
   "execution_count": 5,
   "metadata": {},
   "outputs": [],
   "source": [
    "t2[0]=99"
   ]
  },
  {
   "cell_type": "code",
   "execution_count": 6,
   "metadata": {},
   "outputs": [
    {
     "data": {
      "text/plain": [
       "tensor([[99, 99, 99]])"
      ]
     },
     "execution_count": 6,
     "metadata": {},
     "output_type": "execute_result"
    }
   ],
   "source": [
    "t1"
   ]
  },
  {
   "cell_type": "code",
   "execution_count": null,
   "metadata": {},
   "outputs": [],
   "source": []
  }
 ],
 "metadata": {
  "kernelspec": {
   "display_name": "Python 3.9.7 ('ml')",
   "language": "python",
   "name": "python3"
  },
  "language_info": {
   "codemirror_mode": {
    "name": "ipython",
    "version": 3
   },
   "file_extension": ".py",
   "mimetype": "text/x-python",
   "name": "python",
   "nbconvert_exporter": "python",
   "pygments_lexer": "ipython3",
   "version": "3.9.7"
  },
  "orig_nbformat": 4,
  "vscode": {
   "interpreter": {
    "hash": "a61a88f466f2c4f362917a8989e83cecc5957980a71e182d5b14e6ca466af54c"
   }
  }
 },
 "nbformat": 4,
 "nbformat_minor": 2
}
