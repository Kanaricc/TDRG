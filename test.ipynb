{
 "cells": [
  {
   "cell_type": "code",
   "execution_count": 5,
   "metadata": {},
   "outputs": [],
   "source": [
    "import torch\n",
    "from torch.nn import functional as F\n",
    "from torch import nn,Tensor"
   ]
  },
  {
   "cell_type": "code",
   "execution_count": 109,
   "metadata": {},
   "outputs": [],
   "source": [
    "class PartialBCE(nn.Module):\n",
    "    def __init__(self, alpha, beta, gamma):\n",
    "        super().__init__()\n",
    "        self.alpha = alpha\n",
    "        self.beta = beta\n",
    "        self.gamma = gamma\n",
    "\n",
    "    def forward(self, outputs: Tensor, targets: Tensor, weights=None):\n",
    "        masks=targets.detach().clone()\n",
    "        # generate mask. only 1 and -1 are valid labels.\n",
    "        masks[masks==-1]=1\n",
    "        # set -1 as 0 to fit standard BCE loss\n",
    "        targets[targets==-1]=0\n",
    "\n",
    "        batch_size, num_class = outputs.size()\n",
    "        criterion = torch.nn.BCEWithLogitsLoss(reduction=\"none\")\n",
    "        # BCEloss needs targets be float\n",
    "        loss = criterion(outputs, targets.float())\n",
    "        if weights is not None:\n",
    "            loss = loss * weights\n",
    "        # masks==0 are masked\n",
    "        loss = loss * masks.float()\n",
    "        known_ys = masks.float().sum(1)\n",
    "        p_y = known_ys / num_class\n",
    "        g_p_y = self.alpha * (p_y**self.gamma) + self.beta\n",
    "        print(g_p_y,num_class,loss.sum(1))\n",
    "        loss = ((g_p_y / num_class) * loss.sum(1)).mean()\n",
    "        return loss"
   ]
  },
  {
   "cell_type": "code",
   "execution_count": 110,
   "metadata": {},
   "outputs": [],
   "source": [
    "pred=torch.tensor([[100,-100,2]],dtype=torch.float,requires_grad=True)\n",
    "tar=torch.tensor([[1,1,0]])\n",
    "pbce=PartialBCE(-4.45,5.45,1.)\n",
    "# pbce=nn.BCELoss()"
   ]
  },
  {
   "cell_type": "code",
   "execution_count": 111,
   "metadata": {},
   "outputs": [
    {
     "name": "stdout",
     "output_type": "stream",
     "text": [
      "tensor([2.4833]) 3 tensor([100.], grad_fn=<SumBackward1>)\n"
     ]
    },
    {
     "data": {
      "text/plain": [
       "tensor([[ 0.0000, -0.8278,  0.0000]])"
      ]
     },
     "execution_count": 111,
     "metadata": {},
     "output_type": "execute_result"
    }
   ],
   "source": [
    "loss=pbce(pred,tar)\n",
    "loss.backward()\n",
    "pred.grad"
   ]
  },
  {
   "cell_type": "code",
   "execution_count": null,
   "metadata": {},
   "outputs": [],
   "source": []
  }
 ],
 "metadata": {
  "kernelspec": {
   "display_name": "Python 3.9.7 ('ml')",
   "language": "python",
   "name": "python3"
  },
  "language_info": {
   "codemirror_mode": {
    "name": "ipython",
    "version": 3
   },
   "file_extension": ".py",
   "mimetype": "text/x-python",
   "name": "python",
   "nbconvert_exporter": "python",
   "pygments_lexer": "ipython3",
   "version": "3.9.7"
  },
  "orig_nbformat": 4,
  "vscode": {
   "interpreter": {
    "hash": "a61a88f466f2c4f362917a8989e83cecc5957980a71e182d5b14e6ca466af54c"
   }
  }
 },
 "nbformat": 4,
 "nbformat_minor": 2
}
